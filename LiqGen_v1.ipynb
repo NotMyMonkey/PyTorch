{
  "nbformat": 4,
  "nbformat_minor": 0,
  "metadata": {
    "colab": {
      "name": "Untitled1.ipynb",
      "provenance": [],
      "authorship_tag": "ABX9TyMuz2pHVrgGA9NPkVK92vqf",
      "include_colab_link": true
    },
    "kernelspec": {
      "name": "python3",
      "display_name": "Python 3"
    },
    "language_info": {
      "name": "python"
    }
  },
  "cells": [
    {
      "cell_type": "markdown",
      "metadata": {
        "id": "view-in-github",
        "colab_type": "text"
      },
      "source": [
        "<a href=\"https://colab.research.google.com/github/NotMyMonkey/PyTorch/blob/main/LiqGen_v1.ipynb\" target=\"_parent\"><img src=\"https://colab.research.google.com/assets/colab-badge.svg\" alt=\"Open In Colab\"/></a>"
      ]
    },
    {
      "cell_type": "code",
      "metadata": {
        "id": "EnacX2_E8Vtx"
      },
      "source": [
        "from uniswap import Uniswap\n",
        "import json\n",
        "from web3 import Web3\n",
        "\n",
        "def json_read(j):\n",
        "    \"\"\"accepts the file path of a JSON file, imports json and returns the opened file as a variable\"\"\"\n",
        "    import json\n",
        "    with open(j, 'r') as infile:\n",
        "        object = json.load(infile)\n",
        "        return object\n",
        "#end def\n",
        "\n",
        "#!pip install --force-reinstall jsonschema==3.2.0\n",
        "\n",
        "\n",
        "address = \"0x519D689229c23e6cE06799217AAC2114Ae0A4D5F\" # wallet address\n",
        "private_key = \"\"  # wallet key\n",
        "version = 3                       # uniswap version\n",
        "provider = \"https://bsc-dataseed1.binance.org:443\"    # can also be set through the environment variable `PROVIDER`\n",
        "uniswap = Uniswap(address=address, private_key=private_key, version=version, provider=provider)\n",
        "\n",
        "# token addresses\n",
        "wBNB = \"0xbb4cdb9cbd36b01bd1cbaebf2de08d9173bc095c\"\n",
        "sensi = \"0x7869044d36ea75975b793ca4312608cc3817895b\""
      ],
      "execution_count": 22,
      "outputs": []
    },
    {
      "cell_type": "code",
      "metadata": {
        "colab": {
          "resources": {
            "http://localhost:8080/nbextensions/google.colab/files.js": {
              "data": "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",
              "ok": true,
              "headers": [
                [
                  "content-type",
                  "application/javascript"
                ]
              ],
              "status": 200,
              "status_text": ""
            }
          },
          "base_uri": "https://localhost:8080/",
          "height": 109
        },
        "id": "hdeZav2LJCxc",
        "outputId": "24af74a4-8822-4de5-e9df-114eb5a4bcdb"
      },
      "source": [
        "from google.colab import files\n",
        "\n",
        "files.upload()"
      ],
      "execution_count": 37,
      "outputs": [
        {
          "output_type": "display_data",
          "data": {
            "text/html": [
              "\n",
              "     <input type=\"file\" id=\"files-fe4d6cf8-251d-4da6-8439-4e6135ea331e\" name=\"files[]\" multiple disabled\n",
              "        style=\"border:none\" />\n",
              "     <output id=\"result-fe4d6cf8-251d-4da6-8439-4e6135ea331e\">\n",
              "      Upload widget is only available when the cell has been executed in the\n",
              "      current browser session. Please rerun this cell to enable.\n",
              "      </output>\n",
              "      <script src=\"/nbextensions/google.colab/files.js\"></script> "
            ],
            "text/plain": [
              "<IPython.core.display.HTML object>"
            ]
          },
          "metadata": {
            "tags": []
          }
        },
        {
          "output_type": "stream",
          "text": [
            "Saving ABI.json to ABI (2).json\n"
          ],
          "name": "stdout"
        },
        {
          "output_type": "execute_result",
          "data": {
            "text/plain": [
              "{'ABI.json': b'{{\"status\":\"1\",\"message\":\"OK-Missing/Invalid API Key, rate limit of 1/5sec applied\",\"result\":\"[{\\\\\"inputs\\\\\":[],\\\\\"stateMutability\\\\\":\\\\\"nonpayable\\\\\",\\\\\"type\\\\\":\\\\\"constructor\\\\\"},{\\\\\"anonymous\\\\\":false,\\\\\"inputs\\\\\":[{\\\\\"indexed\\\\\":true,\\\\\"internalType\\\\\":\\\\\"address\\\\\",\\\\\"name\\\\\":\\\\\"owner\\\\\",\\\\\"type\\\\\":\\\\\"address\\\\\"},{\\\\\"indexed\\\\\":true,\\\\\"internalType\\\\\":\\\\\"address\\\\\",\\\\\"name\\\\\":\\\\\"spender\\\\\",\\\\\"type\\\\\":\\\\\"address\\\\\"},{\\\\\"indexed\\\\\":false,\\\\\"internalType\\\\\":\\\\\"uint256\\\\\",\\\\\"name\\\\\":\\\\\"value\\\\\",\\\\\"type\\\\\":\\\\\"uint256\\\\\"}],\\\\\"name\\\\\":\\\\\"Approval\\\\\",\\\\\"type\\\\\":\\\\\"event\\\\\"},{\\\\\"anonymous\\\\\":false,\\\\\"inputs\\\\\":[{\\\\\"indexed\\\\\":false,\\\\\"internalType\\\\\":\\\\\"uint256\\\\\",\\\\\"name\\\\\":\\\\\"minTokensBeforeSwap\\\\\",\\\\\"type\\\\\":\\\\\"uint256\\\\\"}],\\\\\"name\\\\\":\\\\\"MinTokensBeforeSwapUpdated\\\\\",\\\\\"type\\\\\":\\\\\"event\\\\\"},{\\\\\"anonymous\\\\\":false,\\\\\"inputs\\\\\":[{\\\\\"indexed\\\\\":true,\\\\\"internalType\\\\\":\\\\\"address\\\\\",\\\\\"name\\\\\":\\\\\"previousOwner\\\\\",\\\\\"type\\\\\":\\\\\"address\\\\\"},{\\\\\"indexed\\\\\":true,\\\\\"internalType\\\\\":\\\\\"address\\\\\",\\\\\"name\\\\\":\\\\\"newOwner\\\\\",\\\\\"type\\\\\":\\\\\"address\\\\\"}],\\\\\"name\\\\\":\\\\\"OwnershipTransferred\\\\\",\\\\\"type\\\\\":\\\\\"event\\\\\"},{\\\\\"anonymous\\\\\":false,\\\\\"inputs\\\\\":[{\\\\\"indexed\\\\\":false,\\\\\"internalType\\\\\":\\\\\"uint256\\\\\",\\\\\"name\\\\\":\\\\\"tokensSwapped\\\\\",\\\\\"type\\\\\":\\\\\"uint256\\\\\"},{\\\\\"indexed\\\\\":false,\\\\\"internalType\\\\\":\\\\\"uint256\\\\\",\\\\\"name\\\\\":\\\\\"ethReceived\\\\\",\\\\\"type\\\\\":\\\\\"uint256\\\\\"},{\\\\\"indexed\\\\\":false,\\\\\"internalType\\\\\":\\\\\"uint256\\\\\",\\\\\"name\\\\\":\\\\\"tokensIntoLiqudity\\\\\",\\\\\"type\\\\\":\\\\\"uint256\\\\\"}],\\\\\"name\\\\\":\\\\\"SwapAndLiquify\\\\\",\\\\\"type\\\\\":\\\\\"event\\\\\"},{\\\\\"anonymous\\\\\":false,\\\\\"inputs\\\\\":[{\\\\\"indexed\\\\\":false,\\\\\"internalType\\\\\":\\\\\"bool\\\\\",\\\\\"name\\\\\":\\\\\"enabled\\\\\",\\\\\"type\\\\\":\\\\\"bool\\\\\"}],\\\\\"name\\\\\":\\\\\"SwapAndLiquifyEnabledUpdated\\\\\",\\\\\"type\\\\\":\\\\\"event\\\\\"},{\\\\\"anonymous\\\\\":false,\\\\\"inputs\\\\\":[{\\\\\"indexed\\\\\":true,\\\\\"internalType\\\\\":\\\\\"address\\\\\",\\\\\"name\\\\\":\\\\\"from\\\\\",\\\\\"type\\\\\":\\\\\"address\\\\\"},{\\\\\"indexed\\\\\":true,\\\\\"internalType\\\\\":\\\\\"address\\\\\",\\\\\"name\\\\\":\\\\\"to\\\\\",\\\\\"type\\\\\":\\\\\"address\\\\\"},{\\\\\"indexed\\\\\":false,\\\\\"internalType\\\\\":\\\\\"uint256\\\\\",\\\\\"name\\\\\":\\\\\"value\\\\\",\\\\\"type\\\\\":\\\\\"uint256\\\\\"}],\\\\\"name\\\\\":\\\\\"Transfer\\\\\",\\\\\"type\\\\\":\\\\\"event\\\\\"},{\\\\\"inputs\\\\\":[],\\\\\"name\\\\\":\\\\\"_charityFee\\\\\",\\\\\"outputs\\\\\":[{\\\\\"internalType\\\\\":\\\\\"uint256\\\\\",\\\\\"name\\\\\":\\\\\"\\\\\",\\\\\"type\\\\\":\\\\\"uint256\\\\\"}],\\\\\"stateMutability\\\\\":\\\\\"view\\\\\",\\\\\"type\\\\\":\\\\\"function\\\\\"},{\\\\\"inputs\\\\\":[],\\\\\"name\\\\\":\\\\\"_charityWalletAddress\\\\\",\\\\\"outputs\\\\\":[{\\\\\"internalType\\\\\":\\\\\"address\\\\\",\\\\\"name\\\\\":\\\\\"\\\\\",\\\\\"type\\\\\":\\\\\"address\\\\\"}],\\\\\"stateMutability\\\\\":\\\\\"view\\\\\",\\\\\"type\\\\\":\\\\\"function\\\\\"},{\\\\\"inputs\\\\\":[],\\\\\"name\\\\\":\\\\\"_liquidityFee\\\\\",\\\\\"outputs\\\\\":[{\\\\\"internalType\\\\\":\\\\\"uint256\\\\\",\\\\\"name\\\\\":\\\\\"\\\\\",\\\\\"type\\\\\":\\\\\"uint256\\\\\"}],\\\\\"stateMutability\\\\\":\\\\\"view\\\\\",\\\\\"type\\\\\":\\\\\"function\\\\\"},{\\\\\"inputs\\\\\":[],\\\\\"name\\\\\":\\\\\"_maxTxAmount\\\\\",\\\\\"outputs\\\\\":[{\\\\\"internalType\\\\\":\\\\\"uint256\\\\\",\\\\\"name\\\\\":\\\\\"\\\\\",\\\\\"type\\\\\":\\\\\"uint256\\\\\"}],\\\\\"stateMutability\\\\\":\\\\\"view\\\\\",\\\\\"type\\\\\":\\\\\"function\\\\\"},{\\\\\"inputs\\\\\":[],\\\\\"name\\\\\":\\\\\"_taxFee\\\\\",\\\\\"outputs\\\\\":[{\\\\\"internalType\\\\\":\\\\\"uint256\\\\\",\\\\\"name\\\\\":\\\\\"\\\\\",\\\\\"type\\\\\":\\\\\"uint256\\\\\"}],\\\\\"stateMutability\\\\\":\\\\\"view\\\\\",\\\\\"type\\\\\":\\\\\"function\\\\\"},{\\\\\"inputs\\\\\":[],\\\\\"name\\\\\":\\\\\"_totalBurn\\\\\",\\\\\"outputs\\\\\":[{\\\\\"internalType\\\\\":\\\\\"uint256\\\\\",\\\\\"name\\\\\":\\\\\"\\\\\",\\\\\"type\\\\\":\\\\\"uint256\\\\\"}],\\\\\"stateMutability\\\\\":\\\\\"view\\\\\",\\\\\"type\\\\\":\\\\\"function\\\\\"},{\\\\\"inputs\\\\\":[{\\\\\"internalType\\\\\":\\\\\"address\\\\\",\\\\\"name\\\\\":\\\\\"owner\\\\\",\\\\\"type\\\\\":\\\\\"address\\\\\"},{\\\\\"internalType\\\\\":\\\\\"address\\\\\",\\\\\"name\\\\\":\\\\\"spender\\\\\",\\\\\"type\\\\\":\\\\\"address\\\\\"}],\\\\\"name\\\\\":\\\\\"allowance\\\\\",\\\\\"outputs\\\\\":[{\\\\\"internalType\\\\\":\\\\\"uint256\\\\\",\\\\\"name\\\\\":\\\\\"\\\\\",\\\\\"type\\\\\":\\\\\"uint256\\\\\"}],\\\\\"stateMutability\\\\\":\\\\\"view\\\\\",\\\\\"type\\\\\":\\\\\"function\\\\\"},{\\\\\"inputs\\\\\":[{\\\\\"internalType\\\\\":\\\\\"address\\\\\",\\\\\"name\\\\\":\\\\\"spender\\\\\",\\\\\"type\\\\\":\\\\\"address\\\\\"},{\\\\\"internalType\\\\\":\\\\\"uint256\\\\\",\\\\\"name\\\\\":\\\\\"amount\\\\\",\\\\\"type\\\\\":\\\\\"uint256\\\\\"}],\\\\\"name\\\\\":\\\\\"approve\\\\\",\\\\\"outputs\\\\\":[{\\\\\"internalType\\\\\":\\\\\"bool\\\\\",\\\\\"name\\\\\":\\\\\"\\\\\",\\\\\"type\\\\\":\\\\\"bool\\\\\"}],\\\\\"stateMutability\\\\\":\\\\\"nonpayable\\\\\",\\\\\"type\\\\\":\\\\\"function\\\\\"},{\\\\\"inputs\\\\\":[{\\\\\"internalType\\\\\":\\\\\"address\\\\\",\\\\\"name\\\\\":\\\\\"account\\\\\",\\\\\"type\\\\\":\\\\\"address\\\\\"}],\\\\\"name\\\\\":\\\\\"balanceOf\\\\\",\\\\\"outputs\\\\\":[{\\\\\"internalType\\\\\":\\\\\"uint256\\\\\",\\\\\"name\\\\\":\\\\\"\\\\\",\\\\\"type\\\\\":\\\\\"uint256\\\\\"}],\\\\\"stateMutability\\\\\":\\\\\"view\\\\\",\\\\\"type\\\\\":\\\\\"function\\\\\"},{\\\\\"inputs\\\\\":[],\\\\\"name\\\\\":\\\\\"decimals\\\\\",\\\\\"outputs\\\\\":[{\\\\\"internalType\\\\\":\\\\\"uint8\\\\\",\\\\\"name\\\\\":\\\\\"\\\\\",\\\\\"type\\\\\":\\\\\"uint8\\\\\"}],\\\\\"stateMutability\\\\\":\\\\\"view\\\\\",\\\\\"type\\\\\":\\\\\"function\\\\\"},{\\\\\"inputs\\\\\":[{\\\\\"internalType\\\\\":\\\\\"address\\\\\",\\\\\"name\\\\\":\\\\\"spender\\\\\",\\\\\"type\\\\\":\\\\\"address\\\\\"},{\\\\\"internalType\\\\\":\\\\\"uint256\\\\\",\\\\\"name\\\\\":\\\\\"subtractedValue\\\\\",\\\\\"type\\\\\":\\\\\"uint256\\\\\"}],\\\\\"name\\\\\":\\\\\"decreaseAllowance\\\\\",\\\\\"outputs\\\\\":[{\\\\\"internalType\\\\\":\\\\\"bool\\\\\",\\\\\"name\\\\\":\\\\\"\\\\\",\\\\\"type\\\\\":\\\\\"bool\\\\\"}],\\\\\"stateMutability\\\\\":\\\\\"nonpayable\\\\\",\\\\\"type\\\\\":\\\\\"function\\\\\"},{\\\\\"inputs\\\\\":[{\\\\\"internalType\\\\\":\\\\\"uint256\\\\\",\\\\\"name\\\\\":\\\\\"tAmount\\\\\",\\\\\"type\\\\\":\\\\\"uint256\\\\\"}],\\\\\"name\\\\\":\\\\\"deliver\\\\\",\\\\\"outputs\\\\\":[],\\\\\"stateMutability\\\\\":\\\\\"nonpayable\\\\\",\\\\\"type\\\\\":\\\\\"function\\\\\"},{\\\\\"inputs\\\\\":[{\\\\\"internalType\\\\\":\\\\\"address\\\\\",\\\\\"name\\\\\":\\\\\"account\\\\\",\\\\\"type\\\\\":\\\\\"address\\\\\"}],\\\\\"name\\\\\":\\\\\"excludeFromFee\\\\\",\\\\\"outputs\\\\\":[],\\\\\"stateMutability\\\\\":\\\\\"nonpayable\\\\\",\\\\\"type\\\\\":\\\\\"function\\\\\"},{\\\\\"inputs\\\\\":[{\\\\\"internalType\\\\\":\\\\\"address\\\\\",\\\\\"name\\\\\":\\\\\"account\\\\\",\\\\\"type\\\\\":\\\\\"address\\\\\"}],\\\\\"name\\\\\":\\\\\"excludeFromReward\\\\\",\\\\\"outputs\\\\\":[],\\\\\"stateMutability\\\\\":\\\\\"nonpayable\\\\\",\\\\\"type\\\\\":\\\\\"function\\\\\"},{\\\\\"inputs\\\\\":[{\\\\\"internalType\\\\\":\\\\\"address\\\\\",\\\\\"name\\\\\":\\\\\"account\\\\\",\\\\\"type\\\\\":\\\\\"address\\\\\"}],\\\\\"name\\\\\":\\\\\"includeInFee\\\\\",\\\\\"outputs\\\\\":[],\\\\\"stateMutability\\\\\":\\\\\"nonpayable\\\\\",\\\\\"type\\\\\":\\\\\"function\\\\\"},{\\\\\"inputs\\\\\":[{\\\\\"internalType\\\\\":\\\\\"address\\\\\",\\\\\"name\\\\\":\\\\\"account\\\\\",\\\\\"type\\\\\":\\\\\"address\\\\\"}],\\\\\"name\\\\\":\\\\\"includeInReward\\\\\",\\\\\"outputs\\\\\":[],\\\\\"stateMutability\\\\\":\\\\\"nonpayable\\\\\",\\\\\"type\\\\\":\\\\\"function\\\\\"},{\\\\\"inputs\\\\\":[{\\\\\"internalType\\\\\":\\\\\"address\\\\\",\\\\\"name\\\\\":\\\\\"spender\\\\\",\\\\\"type\\\\\":\\\\\"address\\\\\"},{\\\\\"internalType\\\\\":\\\\\"uint256\\\\\",\\\\\"name\\\\\":\\\\\"addedValue\\\\\",\\\\\"type\\\\\":\\\\\"uint256\\\\\"}],\\\\\"name\\\\\":\\\\\"increaseAllowance\\\\\",\\\\\"outputs\\\\\":[{\\\\\"internalType\\\\\":\\\\\"bool\\\\\",\\\\\"name\\\\\":\\\\\"\\\\\",\\\\\"type\\\\\":\\\\\"bool\\\\\"}],\\\\\"stateMutability\\\\\":\\\\\"nonpayable\\\\\",\\\\\"type\\\\\":\\\\\"function\\\\\"},{\\\\\"inputs\\\\\":[{\\\\\"internalType\\\\\":\\\\\"address\\\\\",\\\\\"name\\\\\":\\\\\"account\\\\\",\\\\\"type\\\\\":\\\\\"address\\\\\"}],\\\\\"name\\\\\":\\\\\"isExcludedFromFee\\\\\",\\\\\"outputs\\\\\":[{\\\\\"internalType\\\\\":\\\\\"bool\\\\\",\\\\\"name\\\\\":\\\\\"\\\\\",\\\\\"type\\\\\":\\\\\"bool\\\\\"}],\\\\\"stateMutability\\\\\":\\\\\"view\\\\\",\\\\\"type\\\\\":\\\\\"function\\\\\"},{\\\\\"inputs\\\\\":[{\\\\\"internalType\\\\\":\\\\\"address\\\\\",\\\\\"name\\\\\":\\\\\"account\\\\\",\\\\\"type\\\\\":\\\\\"address\\\\\"}],\\\\\"name\\\\\":\\\\\"isExcludedFromReward\\\\\",\\\\\"outputs\\\\\":[{\\\\\"internalType\\\\\":\\\\\"bool\\\\\",\\\\\"name\\\\\":\\\\\"\\\\\",\\\\\"type\\\\\":\\\\\"bool\\\\\"}],\\\\\"stateMutability\\\\\":\\\\\"view\\\\\",\\\\\"type\\\\\":\\\\\"function\\\\\"},{\\\\\"inputs\\\\\":[],\\\\\"name\\\\\":\\\\\"name\\\\\",\\\\\"outputs\\\\\":[{\\\\\"internalType\\\\\":\\\\\"string\\\\\",\\\\\"name\\\\\":\\\\\"\\\\\",\\\\\"type\\\\\":\\\\\"string\\\\\"}],\\\\\"stateMutability\\\\\":\\\\\"view\\\\\",\\\\\"type\\\\\":\\\\\"function\\\\\"},{\\\\\"inputs\\\\\":[],\\\\\"name\\\\\":\\\\\"numTokensSellToAddToLiquidity\\\\\",\\\\\"outputs\\\\\":[{\\\\\"internalType\\\\\":\\\\\"uint256\\\\\",\\\\\"name\\\\\":\\\\\"\\\\\",\\\\\"type\\\\\":\\\\\"uint256\\\\\"}],\\\\\"stateMutability\\\\\":\\\\\"view\\\\\",\\\\\"type\\\\\":\\\\\"function\\\\\"},{\\\\\"inputs\\\\\":[],\\\\\"name\\\\\":\\\\\"owner\\\\\",\\\\\"outputs\\\\\":[{\\\\\"internalType\\\\\":\\\\\"address\\\\\",\\\\\"name\\\\\":\\\\\"\\\\\",\\\\\"type\\\\\":\\\\\"address\\\\\"}],\\\\\"stateMutability\\\\\":\\\\\"view\\\\\",\\\\\"type\\\\\":\\\\\"function\\\\\"},{\\\\\"inputs\\\\\":[{\\\\\"internalType\\\\\":\\\\\"uint256\\\\\",\\\\\"name\\\\\":\\\\\"tAmount\\\\\",\\\\\"type\\\\\":\\\\\"uint256\\\\\"},{\\\\\"internalType\\\\\":\\\\\"bool\\\\\",\\\\\"name\\\\\":\\\\\"deductTransferFee\\\\\",\\\\\"type\\\\\":\\\\\"bool\\\\\"}],\\\\\"name\\\\\":\\\\\"reflectionFromToken\\\\\",\\\\\"outputs\\\\\":[{\\\\\"internalType\\\\\":\\\\\"uint256\\\\\",\\\\\"name\\\\\":\\\\\"\\\\\",\\\\\"type\\\\\":\\\\\"uint256\\\\\"}],\\\\\"stateMutability\\\\\":\\\\\"view\\\\\",\\\\\"type\\\\\":\\\\\"function\\\\\"},{\\\\\"inputs\\\\\":[],\\\\\"name\\\\\":\\\\\"renounceOwnership\\\\\",\\\\\"outputs\\\\\":[],\\\\\"stateMutability\\\\\":\\\\\"nonpayable\\\\\",\\\\\"type\\\\\":\\\\\"function\\\\\"},{\\\\\"inputs\\\\\":[{\\\\\"internalType\\\\\":\\\\\"uint256\\\\\",\\\\\"name\\\\\":\\\\\"charityFee\\\\\",\\\\\"type\\\\\":\\\\\"uint256\\\\\"}],\\\\\"name\\\\\":\\\\\"setCharityFeePercent\\\\\",\\\\\"outputs\\\\\":[],\\\\\"stateMutability\\\\\":\\\\\"nonpayable\\\\\",\\\\\"type\\\\\":\\\\\"function\\\\\"},{\\\\\"inputs\\\\\":[{\\\\\"internalType\\\\\":\\\\\"uint256\\\\\",\\\\\"name\\\\\":\\\\\"liquidityFee\\\\\",\\\\\"type\\\\\":\\\\\"uint256\\\\\"}],\\\\\"name\\\\\":\\\\\"setLiquidityFeePercent\\\\\",\\\\\"outputs\\\\\":[],\\\\\"stateMutability\\\\\":\\\\\"nonpayable\\\\\",\\\\\"type\\\\\":\\\\\"function\\\\\"},{\\\\\"inputs\\\\\":[{\\\\\"internalType\\\\\":\\\\\"uint256\\\\\",\\\\\"name\\\\\":\\\\\"maxTxPercent\\\\\",\\\\\"type\\\\\":\\\\\"uint256\\\\\"}],\\\\\"name\\\\\":\\\\\"setMaxTxPercent\\\\\",\\\\\"outputs\\\\\":[],\\\\\"stateMutability\\\\\":\\\\\"nonpayable\\\\\",\\\\\"type\\\\\":\\\\\"function\\\\\"},{\\\\\"inputs\\\\\":[{\\\\\"internalType\\\\\":\\\\\"bool\\\\\",\\\\\"name\\\\\":\\\\\"_enabled\\\\\",\\\\\"type\\\\\":\\\\\"bool\\\\\"}],\\\\\"name\\\\\":\\\\\"setSwapAndLiquifyEnabled\\\\\",\\\\\"outputs\\\\\":[],\\\\\"stateMutability\\\\\":\\\\\"nonpayable\\\\\",\\\\\"type\\\\\":\\\\\"function\\\\\"},{\\\\\"inputs\\\\\":[{\\\\\"internalType\\\\\":\\\\\"uint256\\\\\",\\\\\"name\\\\\":\\\\\"taxFee\\\\\",\\\\\"type\\\\\":\\\\\"uint256\\\\\"}],\\\\\"name\\\\\":\\\\\"setTaxFeePercent\\\\\",\\\\\"outputs\\\\\":[],\\\\\"stateMutability\\\\\":\\\\\"nonpayable\\\\\",\\\\\"type\\\\\":\\\\\"function\\\\\"},{\\\\\"inputs\\\\\":[{\\\\\"internalType\\\\\":\\\\\"uint256\\\\\",\\\\\"name\\\\\":\\\\\"tokenNumber\\\\\",\\\\\"type\\\\\":\\\\\"uint256\\\\\"}],\\\\\"name\\\\\":\\\\\"setTokenLiquifyCap\\\\\",\\\\\"outputs\\\\\":[],\\\\\"stateMutability\\\\\":\\\\\"nonpayable\\\\\",\\\\\"type\\\\\":\\\\\"function\\\\\"},{\\\\\"inputs\\\\\":[],\\\\\"name\\\\\":\\\\\"swapAndLiquifyEnabled\\\\\",\\\\\"outputs\\\\\":[{\\\\\"internalType\\\\\":\\\\\"bool\\\\\",\\\\\"name\\\\\":\\\\\"\\\\\",\\\\\"type\\\\\":\\\\\"bool\\\\\"}],\\\\\"stateMutability\\\\\":\\\\\"view\\\\\",\\\\\"type\\\\\":\\\\\"function\\\\\"},{\\\\\"inputs\\\\\":[],\\\\\"name\\\\\":\\\\\"symbol\\\\\",\\\\\"outputs\\\\\":[{\\\\\"internalType\\\\\":\\\\\"string\\\\\",\\\\\"name\\\\\":\\\\\"\\\\\",\\\\\"type\\\\\":\\\\\"string\\\\\"}],\\\\\"stateMutability\\\\\":\\\\\"view\\\\\",\\\\\"type\\\\\":\\\\\"function\\\\\"},{\\\\\"inputs\\\\\":[{\\\\\"internalType\\\\\":\\\\\"uint256\\\\\",\\\\\"name\\\\\":\\\\\"rAmount\\\\\",\\\\\"type\\\\\":\\\\\"uint256\\\\\"}],\\\\\"name\\\\\":\\\\\"tokenFromReflection\\\\\",\\\\\"outputs\\\\\":[{\\\\\"internalType\\\\\":\\\\\"uint256\\\\\",\\\\\"name\\\\\":\\\\\"\\\\\",\\\\\"type\\\\\":\\\\\"uint256\\\\\"}],\\\\\"stateMutability\\\\\":\\\\\"view\\\\\",\\\\\"type\\\\\":\\\\\"function\\\\\"},{\\\\\"inputs\\\\\":[],\\\\\"name\\\\\":\\\\\"totalFees\\\\\",\\\\\"outputs\\\\\":[{\\\\\"internalType\\\\\":\\\\\"uint256\\\\\",\\\\\"name\\\\\":\\\\\"\\\\\",\\\\\"type\\\\\":\\\\\"uint256\\\\\"}],\\\\\"stateMutability\\\\\":\\\\\"view\\\\\",\\\\\"type\\\\\":\\\\\"function\\\\\"},{\\\\\"inputs\\\\\":[],\\\\\"name\\\\\":\\\\\"totalSupply\\\\\",\\\\\"outputs\\\\\":[{\\\\\"internalType\\\\\":\\\\\"uint256\\\\\",\\\\\"name\\\\\":\\\\\"\\\\\",\\\\\"type\\\\\":\\\\\"uint256\\\\\"}],\\\\\"stateMutability\\\\\":\\\\\"view\\\\\",\\\\\"type\\\\\":\\\\\"function\\\\\"},{\\\\\"inputs\\\\\":[{\\\\\"internalType\\\\\":\\\\\"address\\\\\",\\\\\"name\\\\\":\\\\\"recipient\\\\\",\\\\\"type\\\\\":\\\\\"address\\\\\"},{\\\\\"internalType\\\\\":\\\\\"uint256\\\\\",\\\\\"name\\\\\":\\\\\"amount\\\\\",\\\\\"type\\\\\":\\\\\"uint256\\\\\"}],\\\\\"name\\\\\":\\\\\"transfer\\\\\",\\\\\"outputs\\\\\":[{\\\\\"internalType\\\\\":\\\\\"bool\\\\\",\\\\\"name\\\\\":\\\\\"\\\\\",\\\\\"type\\\\\":\\\\\"bool\\\\\"}],\\\\\"stateMutability\\\\\":\\\\\"nonpayable\\\\\",\\\\\"type\\\\\":\\\\\"function\\\\\"},{\\\\\"inputs\\\\\":[{\\\\\"internalType\\\\\":\\\\\"address\\\\\",\\\\\"name\\\\\":\\\\\"sender\\\\\",\\\\\"type\\\\\":\\\\\"address\\\\\"},{\\\\\"internalType\\\\\":\\\\\"address\\\\\",\\\\\"name\\\\\":\\\\\"recipient\\\\\",\\\\\"type\\\\\":\\\\\"address\\\\\"},{\\\\\"internalType\\\\\":\\\\\"uint256\\\\\",\\\\\"name\\\\\":\\\\\"amount\\\\\",\\\\\"type\\\\\":\\\\\"uint256\\\\\"}],\\\\\"name\\\\\":\\\\\"transferFrom\\\\\",\\\\\"outputs\\\\\":[{\\\\\"internalType\\\\\":\\\\\"bool\\\\\",\\\\\"name\\\\\":\\\\\"\\\\\",\\\\\"type\\\\\":\\\\\"bool\\\\\"}],\\\\\"stateMutability\\\\\":\\\\\"nonpayable\\\\\",\\\\\"type\\\\\":\\\\\"function\\\\\"},{\\\\\"inputs\\\\\":[{\\\\\"internalType\\\\\":\\\\\"address\\\\\",\\\\\"name\\\\\":\\\\\"newOwner\\\\\",\\\\\"type\\\\\":\\\\\"address\\\\\"}],\\\\\"name\\\\\":\\\\\"transferOwnership\\\\\",\\\\\"outputs\\\\\":[],\\\\\"stateMutability\\\\\":\\\\\"nonpayable\\\\\",\\\\\"type\\\\\":\\\\\"function\\\\\"},{\\\\\"inputs\\\\\":[],\\\\\"name\\\\\":\\\\\"uniswapV2Pair\\\\\",\\\\\"outputs\\\\\":[{\\\\\"internalType\\\\\":\\\\\"address\\\\\",\\\\\"name\\\\\":\\\\\"\\\\\",\\\\\"type\\\\\":\\\\\"address\\\\\"}],\\\\\"stateMutability\\\\\":\\\\\"view\\\\\",\\\\\"type\\\\\":\\\\\"function\\\\\"},{\\\\\"inputs\\\\\":[],\\\\\"name\\\\\":\\\\\"uniswapV2Router\\\\\",\\\\\"outputs\\\\\":[{\\\\\"internalType\\\\\":\\\\\"contract IUniswapV2Router02\\\\\",\\\\\"name\\\\\":\\\\\"\\\\\",\\\\\"type\\\\\":\\\\\"address\\\\\"}],\\\\\"stateMutability\\\\\":\\\\\"view\\\\\",\\\\\"type\\\\\":\\\\\"function\\\\\"},{\\\\\"stateMutability\\\\\":\\\\\"payable\\\\\",\\\\\"type\\\\\":\\\\\"receive\\\\\"}]\"}'}"
            ]
          },
          "metadata": {
            "tags": []
          },
          "execution_count": 37
        }
      ]
    },
    {
      "cell_type": "code",
      "metadata": {
        "colab": {
          "base_uri": "https://localhost:8080/"
        },
        "id": "_AymcITLLxh6",
        "outputId": "b13b1323-1444-484e-c6b0-e80d38162b66"
      },
      "source": [
        "# WebsocketProvider:\n",
        "\n",
        "w3 = Web3(Web3.HTTPProvider(provider))\n",
        "w3.isConnected()\n"
      ],
      "execution_count": 65,
      "outputs": [
        {
          "output_type": "execute_result",
          "data": {
            "text/plain": [
              "True"
            ]
          },
          "metadata": {
            "tags": []
          },
          "execution_count": 65
        }
      ]
    },
    {
      "cell_type": "code",
      "metadata": {
        "id": "BP1IHzrLJEmT"
      },
      "source": [
        "sensi_abi = json_read('ABI.json')\n",
        "\n",
        "sensi = Web3.toChecksumAddress(sensi)"
      ],
      "execution_count": 66,
      "outputs": []
    },
    {
      "cell_type": "code",
      "metadata": {
        "id": "GQKuIrLpYuaR"
      },
      "source": [
        "contract = w3.eth.contract(sensi, abi=sensi_abi)"
      ],
      "execution_count": 67,
      "outputs": []
    },
    {
      "cell_type": "code",
      "metadata": {
        "colab": {
          "base_uri": "https://localhost:8080/"
        },
        "id": "86sVWdGpHk_J",
        "outputId": "2105f581-261b-46db-d251-de31c6df8698"
      },
      "source": [
        "raw_balance = contract.functions.balanceOf(address).call()\n",
        "\n",
        "import random\n",
        "print(raw_balance)"
      ],
      "execution_count": 71,
      "outputs": [
        {
          "output_type": "stream",
          "text": [
            "69000000000\n"
          ],
          "name": "stdout"
        }
      ]
    },
    {
      "cell_type": "code",
      "metadata": {
        "colab": {
          "base_uri": "https://localhost:8080/",
          "height": 520
        },
        "id": "-PctEadZfMZK",
        "outputId": "b2d5e8c9-e434-4496-c53e-53cde7e7962a"
      },
      "source": [
        "import time\n",
        "min = 5\n",
        "max = 20\n",
        "test = 1000\n",
        "threshold = 100\n",
        "\n",
        "def sell_amount(balance):\n",
        "  upper = (int(balance))\n",
        "  lower = (int(balance / 4))\n",
        "  sell_amount = random.randint(lower, upper)    \n",
        "  return sell_amount\n",
        "\n",
        "sale = (sell_amount(test))\n",
        "\n",
        "while True:\n",
        "    print('Checking balance...')\n",
        "    time.sleep(5)\n",
        "    while test < threshold:\n",
        "      print('Balance is ' + (str(test)) + ' and is below sale threshold. Rechecking in ' + (str(min)) + 'seconds...')\n",
        "      time.sleep(5)\n",
        "    while test >= threshold:\n",
        "      print('Balance is ' + (str(test)) + ' SENSI')\n",
        "      tokens_sold = sell_amount(test)\n",
        "      print('Selling: ' + (str(tokens_sold)))\n",
        "      test -= sell_amount(test)\n",
        "      print('New balance: ' + (str(test)))\n",
        "      if test < threshold:\n",
        "        print('Balance is ' + (str(test)) + ' and is below sale threshold. Rechecking in ' + (str(min)) + 'seconds...')\n",
        "        continue\n",
        "      cooldown = random.randint(min, max)\n",
        "      print('Waiting ' + (str(cooldown)) + ' seconds until next sale...')\n",
        "      time.sleep(cooldown)\n",
        "      continue\n",
        "    time.sleep(5)\n",
        "    \n"
      ],
      "execution_count": 136,
      "outputs": [
        {
          "output_type": "stream",
          "text": [
            "Checking balance...\n",
            "Balance is 1000 SENSI\n",
            "Selling: 593\n",
            "New balance: 468\n",
            "Waiting 10 seconds until next sale...\n",
            "Balance is 468 SENSI\n",
            "Selling: 166\n",
            "New balance: 127\n",
            "Waiting 6 seconds until next sale...\n",
            "Balance is 127 SENSI\n",
            "Selling: 111\n",
            "New balance: 60\n",
            "Balance is 60 and is below sale threshold. Rechecking in 5seconds...\n",
            "Checking balance...\n",
            "Balance is 60 and is below sale threshold. Rechecking in 5seconds...\n",
            "Balance is 60 and is below sale threshold. Rechecking in 5seconds...\n",
            "Balance is 60 and is below sale threshold. Rechecking in 5seconds...\n"
          ],
          "name": "stdout"
        },
        {
          "output_type": "error",
          "ename": "KeyboardInterrupt",
          "evalue": "ignored",
          "traceback": [
            "\u001b[0;31m---------------------------------------------------------------------------\u001b[0m",
            "\u001b[0;31mKeyboardInterrupt\u001b[0m                         Traceback (most recent call last)",
            "\u001b[0;32m<ipython-input-136-f42f8bfc06d4>\u001b[0m in \u001b[0;36m<module>\u001b[0;34m()\u001b[0m\n\u001b[1;32m     18\u001b[0m     \u001b[0;32mwhile\u001b[0m \u001b[0mtest\u001b[0m \u001b[0;34m<\u001b[0m \u001b[0mthreshold\u001b[0m\u001b[0;34m:\u001b[0m\u001b[0;34m\u001b[0m\u001b[0;34m\u001b[0m\u001b[0m\n\u001b[1;32m     19\u001b[0m       \u001b[0mprint\u001b[0m\u001b[0;34m(\u001b[0m\u001b[0;34m'Balance is '\u001b[0m \u001b[0;34m+\u001b[0m \u001b[0;34m(\u001b[0m\u001b[0mstr\u001b[0m\u001b[0;34m(\u001b[0m\u001b[0mtest\u001b[0m\u001b[0;34m)\u001b[0m\u001b[0;34m)\u001b[0m \u001b[0;34m+\u001b[0m \u001b[0;34m' and is below sale threshold. Rechecking in '\u001b[0m \u001b[0;34m+\u001b[0m \u001b[0;34m(\u001b[0m\u001b[0mstr\u001b[0m\u001b[0;34m(\u001b[0m\u001b[0mmin\u001b[0m\u001b[0;34m)\u001b[0m\u001b[0;34m)\u001b[0m \u001b[0;34m+\u001b[0m \u001b[0;34m'seconds...'\u001b[0m\u001b[0;34m)\u001b[0m\u001b[0;34m\u001b[0m\u001b[0;34m\u001b[0m\u001b[0m\n\u001b[0;32m---> 20\u001b[0;31m       \u001b[0mtime\u001b[0m\u001b[0;34m.\u001b[0m\u001b[0msleep\u001b[0m\u001b[0;34m(\u001b[0m\u001b[0;36m5\u001b[0m\u001b[0;34m)\u001b[0m\u001b[0;34m\u001b[0m\u001b[0;34m\u001b[0m\u001b[0m\n\u001b[0m\u001b[1;32m     21\u001b[0m     \u001b[0;32mwhile\u001b[0m \u001b[0mtest\u001b[0m \u001b[0;34m>=\u001b[0m \u001b[0mthreshold\u001b[0m\u001b[0;34m:\u001b[0m\u001b[0;34m\u001b[0m\u001b[0;34m\u001b[0m\u001b[0m\n\u001b[1;32m     22\u001b[0m       \u001b[0mprint\u001b[0m\u001b[0;34m(\u001b[0m\u001b[0;34m'Balance is '\u001b[0m \u001b[0;34m+\u001b[0m \u001b[0;34m(\u001b[0m\u001b[0mstr\u001b[0m\u001b[0;34m(\u001b[0m\u001b[0mtest\u001b[0m\u001b[0;34m)\u001b[0m\u001b[0;34m)\u001b[0m \u001b[0;34m+\u001b[0m \u001b[0;34m' SENSI'\u001b[0m\u001b[0;34m)\u001b[0m\u001b[0;34m\u001b[0m\u001b[0;34m\u001b[0m\u001b[0m\n",
            "\u001b[0;31mKeyboardInterrupt\u001b[0m: "
          ]
        }
      ]
    },
    {
      "cell_type": "code",
      "metadata": {
        "id": "_k7BCb6ev0F4"
      },
      "source": [
        ""
      ],
      "execution_count": null,
      "outputs": []
    },
    {
      "cell_type": "code",
      "metadata": {
        "id": "FW-P4yKghrhy"
      },
      "source": [
        ""
      ],
      "execution_count": null,
      "outputs": []
    }
  ]
}